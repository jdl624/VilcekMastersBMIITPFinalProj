{
 "cells": [
  {
   "cell_type": "code",
   "execution_count": 1,
   "metadata": {},
   "outputs": [],
   "source": [
    "import pandas as pd\n",
    "import numpy as np"
   ]
  },
  {
   "cell_type": "code",
   "execution_count": 9,
   "metadata": {},
   "outputs": [],
   "source": [
    "data = pd.read_csv('alz_data.csv')\n",
    "data = data.drop(columns='Unnamed: 0')"
   ]
  },
  {
   "cell_type": "code",
   "execution_count": 13,
   "metadata": {},
   "outputs": [],
   "source": [
    "zs = data\n",
    "zs = zs.assign(Delayed_Recall_Z = lambda x: ((x['Delayed Recall']-19.1)/6.7))\n",
    "zs = zs.assign(Number_Span_Test_Forward_Z = lambda x: ((x['Number Span Test Forward']-8.3)/2.3))\n",
    "zs = zs.assign(Part_A_Trail_Making_Z = lambda x: ((-x['Part A Trail Making']+30.9)/13.4))\n",
    "zs = zs.assign(Part_B_Trail_Making_Z = lambda x: ((-x['Part B Trail Making']+82.2)/46.3))\n",
    "zs = zs.assign(MoCA_Z = lambda x: ((x['moca']-26.3)/2.8))\n",
    "zs = zs.assign(Categories_Animal_Z = lambda x: ((x['Categories Animal']-21.4)/5.7))\n",
    "zs = zs.drop(['GDS', 'CDR','Delayed Recall','Number Span Test Forward','Part A Trail Making','Part B Trail Making','moca','Categories Animal'], axis = 1)"
   ]
  },
  {
   "cell_type": "code",
   "execution_count": 22,
   "metadata": {},
   "outputs": [
    {
     "name": "stdout",
     "output_type": "stream",
     "text": [
      "    Delayed_Recall_Z  Number_Span_Test_Forward_Z  Part_A_Trail_Making_Z  \\\n",
      "0           1.328358                    0.739130               0.440299   \n",
      "1           1.626866                    0.739130               0.514925   \n",
      "2           2.373134                    0.739130               0.067164   \n",
      "3           1.328358                    0.739130               0.067164   \n",
      "4           1.029851                    1.608696               0.514925   \n",
      "..               ...                         ...                    ...   \n",
      "95         -2.701493                   -2.739130              -8.888060   \n",
      "96         -2.552239                   -2.739130              -8.888060   \n",
      "97         -2.701493                   -3.173913              -8.888060   \n",
      "98         -2.850746                   -3.608696              -8.888060   \n",
      "99         -2.850746                   -3.608696              -8.888060   \n",
      "\n",
      "    Part_B_Trail_Making_Z    MoCA_Z  Categories_Animal_Z  DR_ab  NSF_ab  \\\n",
      "0                0.803456  0.250000             0.631579      0       0   \n",
      "1                0.803456  1.321429             0.807018      0       0   \n",
      "2                0.803456  0.607143             0.456140      0       0   \n",
      "3                0.803456  0.964286             1.157895      0       0   \n",
      "4                0.803456  0.250000             0.280702      0       0   \n",
      "..                    ...       ...                  ...    ...     ...   \n",
      "95              -4.488121 -9.035714            -3.403509      1       1   \n",
      "96              -4.488121 -7.964286            -3.754386      1       1   \n",
      "97              -4.704104 -8.678571            -3.578947      1       1   \n",
      "98              -4.704104 -9.392857            -3.754386      1       1   \n",
      "99              -4.704104 -8.321429            -3.578947      1       1   \n",
      "\n",
      "    TMA_ab  TMB_ab  MoCA_ab  Cat_An_ab  \n",
      "0        0       0        0          0  \n",
      "1        0       0        0          0  \n",
      "2        0       0        0          0  \n",
      "3        0       0        0          0  \n",
      "4        0       0        0          0  \n",
      "..     ...     ...      ...        ...  \n",
      "95       1       1        1          1  \n",
      "96       1       1        1          1  \n",
      "97       1       1        1          1  \n",
      "98       1       1        1          1  \n",
      "99       1       1        1          1  \n",
      "\n",
      "[100 rows x 12 columns]\n"
     ]
    }
   ],
   "source": [
    "print(zs)"
   ]
  },
  {
   "cell_type": "code",
   "execution_count": 15,
   "metadata": {},
   "outputs": [],
   "source": [
    "zs['DR_ab'] = zs['Delayed_Recall_Z'].apply(lambda x: 1 if x <= -1.5 else 0)\n",
    "zs['NSF_ab'] = zs['Number_Span_Test_Forward_Z'].apply(lambda x: 1 if x <= -1.5 else 0)\n",
    "zs['TMA_ab'] = zs['Part_A_Trail_Making_Z'].apply(lambda x: 1 if x <= -1.5 else 0)\n",
    "zs['TMB_ab'] = zs['Part_B_Trail_Making_Z'].apply(lambda x: 1 if x <= -1.5 else 0)\n",
    "zs['MoCA_ab'] = zs['MoCA_Z'].apply(lambda x: 1 if x <= -1.5 else 0)\n",
    "zs['Cat_An_ab'] = zs['Categories_Animal_Z'].apply(lambda x: 1 if x <= -1.5 else 0)\n"
   ]
  },
  {
   "cell_type": "code",
   "execution_count": 18,
   "metadata": {},
   "outputs": [
    {
     "ename": "KeyError",
     "evalue": "\"['Delayed Recall' 'Number Span Test Forward' 'Part A Trail Making'\\n 'Part B Trail Making' 'moca' 'Categories Animal'] not found in axis\"",
     "output_type": "error",
     "traceback": [
      "\u001b[0;31m---------------------------------------------------------------------------\u001b[0m",
      "\u001b[0;31mKeyError\u001b[0m                                  Traceback (most recent call last)",
      "\u001b[0;32m<ipython-input-18-d5ba84227f4a>\u001b[0m in \u001b[0;36m<module>\u001b[0;34m\u001b[0m\n\u001b[0;32m----> 1\u001b[0;31m \u001b[0mdata\u001b[0m \u001b[0;34m=\u001b[0m \u001b[0mdata\u001b[0m\u001b[0;34m.\u001b[0m\u001b[0mdrop\u001b[0m\u001b[0;34m(\u001b[0m\u001b[0;34m[\u001b[0m\u001b[0;34m'Delayed Recall'\u001b[0m\u001b[0;34m,\u001b[0m\u001b[0;34m'Number Span Test Forward'\u001b[0m\u001b[0;34m,\u001b[0m\u001b[0;34m'Part A Trail Making'\u001b[0m\u001b[0;34m,\u001b[0m\u001b[0;34m'Part B Trail Making'\u001b[0m\u001b[0;34m,\u001b[0m\u001b[0;34m'moca'\u001b[0m\u001b[0;34m,\u001b[0m\u001b[0;34m'Categories Animal'\u001b[0m\u001b[0;34m]\u001b[0m\u001b[0;34m,\u001b[0m \u001b[0maxis\u001b[0m \u001b[0;34m=\u001b[0m \u001b[0;36m1\u001b[0m\u001b[0;34m)\u001b[0m\u001b[0;34m\u001b[0m\u001b[0;34m\u001b[0m\u001b[0m\n\u001b[0m\u001b[1;32m      2\u001b[0m \u001b[0mdata_sum\u001b[0m \u001b[0;34m=\u001b[0m \u001b[0mdata\u001b[0m\u001b[0;34m.\u001b[0m\u001b[0msum\u001b[0m\u001b[0;34m(\u001b[0m\u001b[0maxis\u001b[0m \u001b[0;34m=\u001b[0m \u001b[0;36m1\u001b[0m\u001b[0;34m)\u001b[0m\u001b[0;34m\u001b[0m\u001b[0;34m\u001b[0m\u001b[0m\n\u001b[1;32m      3\u001b[0m \u001b[0;34m\u001b[0m\u001b[0m\n\u001b[1;32m      4\u001b[0m \u001b[0mzs_sum\u001b[0m \u001b[0;34m=\u001b[0m \u001b[0mzs\u001b[0m\u001b[0;34m.\u001b[0m\u001b[0msum\u001b[0m\u001b[0;34m(\u001b[0m\u001b[0maxis\u001b[0m \u001b[0;34m=\u001b[0m \u001b[0;36m1\u001b[0m\u001b[0;34m)\u001b[0m\u001b[0;34m\u001b[0m\u001b[0;34m\u001b[0m\u001b[0m\n\u001b[1;32m      5\u001b[0m \u001b[0mprint\u001b[0m\u001b[0;34m(\u001b[0m\u001b[0mzs_sum\u001b[0m\u001b[0;34m)\u001b[0m\u001b[0;34m\u001b[0m\u001b[0;34m\u001b[0m\u001b[0m\n",
      "\u001b[0;32m~/opt/miniconda3/lib/python3.9/site-packages/pandas/util/_decorators.py\u001b[0m in \u001b[0;36mwrapper\u001b[0;34m(*args, **kwargs)\u001b[0m\n\u001b[1;32m    309\u001b[0m                     \u001b[0mstacklevel\u001b[0m\u001b[0;34m=\u001b[0m\u001b[0mstacklevel\u001b[0m\u001b[0;34m,\u001b[0m\u001b[0;34m\u001b[0m\u001b[0;34m\u001b[0m\u001b[0m\n\u001b[1;32m    310\u001b[0m                 )\n\u001b[0;32m--> 311\u001b[0;31m             \u001b[0;32mreturn\u001b[0m \u001b[0mfunc\u001b[0m\u001b[0;34m(\u001b[0m\u001b[0;34m*\u001b[0m\u001b[0margs\u001b[0m\u001b[0;34m,\u001b[0m \u001b[0;34m**\u001b[0m\u001b[0mkwargs\u001b[0m\u001b[0;34m)\u001b[0m\u001b[0;34m\u001b[0m\u001b[0;34m\u001b[0m\u001b[0m\n\u001b[0m\u001b[1;32m    312\u001b[0m \u001b[0;34m\u001b[0m\u001b[0m\n\u001b[1;32m    313\u001b[0m         \u001b[0;32mreturn\u001b[0m \u001b[0mwrapper\u001b[0m\u001b[0;34m\u001b[0m\u001b[0;34m\u001b[0m\u001b[0m\n",
      "\u001b[0;32m~/opt/miniconda3/lib/python3.9/site-packages/pandas/core/frame.py\u001b[0m in \u001b[0;36mdrop\u001b[0;34m(self, labels, axis, index, columns, level, inplace, errors)\u001b[0m\n\u001b[1;32m   4899\u001b[0m                 \u001b[0mweight\u001b[0m  \u001b[0;36m1.0\u001b[0m     \u001b[0;36m0.8\u001b[0m\u001b[0;34m\u001b[0m\u001b[0;34m\u001b[0m\u001b[0m\n\u001b[1;32m   4900\u001b[0m         \"\"\"\n\u001b[0;32m-> 4901\u001b[0;31m         return super().drop(\n\u001b[0m\u001b[1;32m   4902\u001b[0m             \u001b[0mlabels\u001b[0m\u001b[0;34m=\u001b[0m\u001b[0mlabels\u001b[0m\u001b[0;34m,\u001b[0m\u001b[0;34m\u001b[0m\u001b[0;34m\u001b[0m\u001b[0m\n\u001b[1;32m   4903\u001b[0m             \u001b[0maxis\u001b[0m\u001b[0;34m=\u001b[0m\u001b[0maxis\u001b[0m\u001b[0;34m,\u001b[0m\u001b[0;34m\u001b[0m\u001b[0;34m\u001b[0m\u001b[0m\n",
      "\u001b[0;32m~/opt/miniconda3/lib/python3.9/site-packages/pandas/core/generic.py\u001b[0m in \u001b[0;36mdrop\u001b[0;34m(self, labels, axis, index, columns, level, inplace, errors)\u001b[0m\n\u001b[1;32m   4145\u001b[0m         \u001b[0;32mfor\u001b[0m \u001b[0maxis\u001b[0m\u001b[0;34m,\u001b[0m \u001b[0mlabels\u001b[0m \u001b[0;32min\u001b[0m \u001b[0maxes\u001b[0m\u001b[0;34m.\u001b[0m\u001b[0mitems\u001b[0m\u001b[0;34m(\u001b[0m\u001b[0;34m)\u001b[0m\u001b[0;34m:\u001b[0m\u001b[0;34m\u001b[0m\u001b[0;34m\u001b[0m\u001b[0m\n\u001b[1;32m   4146\u001b[0m             \u001b[0;32mif\u001b[0m \u001b[0mlabels\u001b[0m \u001b[0;32mis\u001b[0m \u001b[0;32mnot\u001b[0m \u001b[0;32mNone\u001b[0m\u001b[0;34m:\u001b[0m\u001b[0;34m\u001b[0m\u001b[0;34m\u001b[0m\u001b[0m\n\u001b[0;32m-> 4147\u001b[0;31m                 \u001b[0mobj\u001b[0m \u001b[0;34m=\u001b[0m \u001b[0mobj\u001b[0m\u001b[0;34m.\u001b[0m\u001b[0m_drop_axis\u001b[0m\u001b[0;34m(\u001b[0m\u001b[0mlabels\u001b[0m\u001b[0;34m,\u001b[0m \u001b[0maxis\u001b[0m\u001b[0;34m,\u001b[0m \u001b[0mlevel\u001b[0m\u001b[0;34m=\u001b[0m\u001b[0mlevel\u001b[0m\u001b[0;34m,\u001b[0m \u001b[0merrors\u001b[0m\u001b[0;34m=\u001b[0m\u001b[0merrors\u001b[0m\u001b[0;34m)\u001b[0m\u001b[0;34m\u001b[0m\u001b[0;34m\u001b[0m\u001b[0m\n\u001b[0m\u001b[1;32m   4148\u001b[0m \u001b[0;34m\u001b[0m\u001b[0m\n\u001b[1;32m   4149\u001b[0m         \u001b[0;32mif\u001b[0m \u001b[0minplace\u001b[0m\u001b[0;34m:\u001b[0m\u001b[0;34m\u001b[0m\u001b[0;34m\u001b[0m\u001b[0m\n",
      "\u001b[0;32m~/opt/miniconda3/lib/python3.9/site-packages/pandas/core/generic.py\u001b[0m in \u001b[0;36m_drop_axis\u001b[0;34m(self, labels, axis, level, errors)\u001b[0m\n\u001b[1;32m   4180\u001b[0m                 \u001b[0mnew_axis\u001b[0m \u001b[0;34m=\u001b[0m \u001b[0maxis\u001b[0m\u001b[0;34m.\u001b[0m\u001b[0mdrop\u001b[0m\u001b[0;34m(\u001b[0m\u001b[0mlabels\u001b[0m\u001b[0;34m,\u001b[0m \u001b[0mlevel\u001b[0m\u001b[0;34m=\u001b[0m\u001b[0mlevel\u001b[0m\u001b[0;34m,\u001b[0m \u001b[0merrors\u001b[0m\u001b[0;34m=\u001b[0m\u001b[0merrors\u001b[0m\u001b[0;34m)\u001b[0m\u001b[0;34m\u001b[0m\u001b[0;34m\u001b[0m\u001b[0m\n\u001b[1;32m   4181\u001b[0m             \u001b[0;32melse\u001b[0m\u001b[0;34m:\u001b[0m\u001b[0;34m\u001b[0m\u001b[0;34m\u001b[0m\u001b[0m\n\u001b[0;32m-> 4182\u001b[0;31m                 \u001b[0mnew_axis\u001b[0m \u001b[0;34m=\u001b[0m \u001b[0maxis\u001b[0m\u001b[0;34m.\u001b[0m\u001b[0mdrop\u001b[0m\u001b[0;34m(\u001b[0m\u001b[0mlabels\u001b[0m\u001b[0;34m,\u001b[0m \u001b[0merrors\u001b[0m\u001b[0;34m=\u001b[0m\u001b[0merrors\u001b[0m\u001b[0;34m)\u001b[0m\u001b[0;34m\u001b[0m\u001b[0;34m\u001b[0m\u001b[0m\n\u001b[0m\u001b[1;32m   4183\u001b[0m             \u001b[0mresult\u001b[0m \u001b[0;34m=\u001b[0m \u001b[0mself\u001b[0m\u001b[0;34m.\u001b[0m\u001b[0mreindex\u001b[0m\u001b[0;34m(\u001b[0m\u001b[0;34m**\u001b[0m\u001b[0;34m{\u001b[0m\u001b[0maxis_name\u001b[0m\u001b[0;34m:\u001b[0m \u001b[0mnew_axis\u001b[0m\u001b[0;34m}\u001b[0m\u001b[0;34m)\u001b[0m\u001b[0;34m\u001b[0m\u001b[0;34m\u001b[0m\u001b[0m\n\u001b[1;32m   4184\u001b[0m \u001b[0;34m\u001b[0m\u001b[0m\n",
      "\u001b[0;32m~/opt/miniconda3/lib/python3.9/site-packages/pandas/core/indexes/base.py\u001b[0m in \u001b[0;36mdrop\u001b[0;34m(self, labels, errors)\u001b[0m\n\u001b[1;32m   6016\u001b[0m         \u001b[0;32mif\u001b[0m \u001b[0mmask\u001b[0m\u001b[0;34m.\u001b[0m\u001b[0many\u001b[0m\u001b[0;34m(\u001b[0m\u001b[0;34m)\u001b[0m\u001b[0;34m:\u001b[0m\u001b[0;34m\u001b[0m\u001b[0;34m\u001b[0m\u001b[0m\n\u001b[1;32m   6017\u001b[0m             \u001b[0;32mif\u001b[0m \u001b[0merrors\u001b[0m \u001b[0;34m!=\u001b[0m \u001b[0;34m\"ignore\"\u001b[0m\u001b[0;34m:\u001b[0m\u001b[0;34m\u001b[0m\u001b[0;34m\u001b[0m\u001b[0m\n\u001b[0;32m-> 6018\u001b[0;31m                 \u001b[0;32mraise\u001b[0m \u001b[0mKeyError\u001b[0m\u001b[0;34m(\u001b[0m\u001b[0;34mf\"{labels[mask]} not found in axis\"\u001b[0m\u001b[0;34m)\u001b[0m\u001b[0;34m\u001b[0m\u001b[0;34m\u001b[0m\u001b[0m\n\u001b[0m\u001b[1;32m   6019\u001b[0m             \u001b[0mindexer\u001b[0m \u001b[0;34m=\u001b[0m \u001b[0mindexer\u001b[0m\u001b[0;34m[\u001b[0m\u001b[0;34m~\u001b[0m\u001b[0mmask\u001b[0m\u001b[0;34m]\u001b[0m\u001b[0;34m\u001b[0m\u001b[0;34m\u001b[0m\u001b[0m\n\u001b[1;32m   6020\u001b[0m         \u001b[0;32mreturn\u001b[0m \u001b[0mself\u001b[0m\u001b[0;34m.\u001b[0m\u001b[0mdelete\u001b[0m\u001b[0;34m(\u001b[0m\u001b[0mindexer\u001b[0m\u001b[0;34m)\u001b[0m\u001b[0;34m\u001b[0m\u001b[0;34m\u001b[0m\u001b[0m\n",
      "\u001b[0;31mKeyError\u001b[0m: \"['Delayed Recall' 'Number Span Test Forward' 'Part A Trail Making'\\n 'Part B Trail Making' 'moca' 'Categories Animal'] not found in axis\""
     ]
    }
   ],
   "source": [
    "data = data.drop(['Delayed Recall','Number Span Test Forward','Part A Trail Making','Part B Trail Making','moca','Categories Animal'], axis = 1)\n",
    "data_sum = data.sum(axis = 1)"
   ]
  },
  {
   "cell_type": "code",
   "execution_count": 23,
   "metadata": {},
   "outputs": [
    {
     "name": "stdout",
     "output_type": "stream",
     "text": [
      "0     0\n",
      "1     0\n",
      "2     0\n",
      "3     0\n",
      "4     0\n",
      "     ..\n",
      "95    6\n",
      "96    6\n",
      "97    6\n",
      "98    6\n",
      "99    6\n",
      "Length: 100, dtype: int64\n"
     ]
    }
   ],
   "source": [
    "zs = zs.drop(['Delayed_Recall_Z','Number_Span_Test_Forward_Z','Part_A_Trail_Making_Z','Part_B_Trail_Making_Z','MoCA_Z','Categories_Animal_Z'], axis = 1)\n",
    "zs_sum = zs.sum(axis = 1)\n",
    "print(zs_sum)"
   ]
  },
  {
   "cell_type": "code",
   "execution_count": 6,
   "metadata": {},
   "outputs": [],
   "source": [
    "def alz_diagnose(data):\n",
    "    data_sum = data.sum(axis = 1)\n",
    "    diags = []\n",
    "    for row in range(data_sum.shape[0]):\n",
    "        row_sum = data.iloc[row].sum()\n",
    "        try:\n",
    "            if row_sum == 1:\n",
    "                diags.append('Normal')\n",
    "            elif row_sum == 2:\n",
    "                diags.append('SCD')\n",
    "            elif row_sum == 3:\n",
    "                diags.append('MCI')\n",
    "            elif row_sum == 4:\n",
    "                diags.append('Probable Dementia')\n",
    "            elif row_sum == 5:\n",
    "                diags.append('Mild Dementia')\n",
    "            elif row_sum == 8:\n",
    "                diags.append('Moderate Dementia')\n",
    "            elif row_sum == 10:\n",
    "                diags.append('Severe Dementia')\n",
    "            else:\n",
    "                raise ValueError()\n",
    "        except ValueError:\n",
    "            diags.append('This combination of diagnostic values does not indicate clear diagnosis. Please verify values are correct.')\n",
    "            pass\n",
    "    return diags"
   ]
  },
  {
   "cell_type": "code",
   "execution_count": 7,
   "metadata": {},
   "outputs": [],
   "source": [
    "data_diag = alz_diagnose(data)\n",
    "df5 = pd.DataFrame({'Diagnosis':data_diag})\n",
    "data = data.join(df5)\n"
   ]
  },
  {
   "cell_type": "code",
   "execution_count": 8,
   "metadata": {},
   "outputs": [
    {
     "name": "stdout",
     "output_type": "stream",
     "text": [
      "    GDS  CDR                                          Diagnosis\n",
      "0     1  0.0                                             Normal\n",
      "1     1  0.0                                             Normal\n",
      "2     1  0.0                                             Normal\n",
      "3     1  0.0                                             Normal\n",
      "4     1  0.0                                             Normal\n",
      "..  ...  ...                                                ...\n",
      "95    6  3.0  This combination of diagnostic values does not...\n",
      "96    6  3.0  This combination of diagnostic values does not...\n",
      "97    7  3.0                                    Severe Dementia\n",
      "98    7  3.0                                    Severe Dementia\n",
      "99    7  3.0                                    Severe Dementia\n",
      "\n",
      "[100 rows x 3 columns]\n"
     ]
    }
   ],
   "source": [
    "print(data)"
   ]
  }
 ],
 "metadata": {
  "interpreter": {
   "hash": "f5083b41ee83e5159228db030480d579c653004d5c99e5326f89d7baacb07b12"
  },
  "kernelspec": {
   "display_name": "Python 3.9.1 64-bit ('base': conda)",
   "name": "python3"
  },
  "language_info": {
   "codemirror_mode": {
    "name": "ipython",
    "version": 3
   },
   "file_extension": ".py",
   "mimetype": "text/x-python",
   "name": "python",
   "nbconvert_exporter": "python",
   "pygments_lexer": "ipython3",
   "version": "3.9.1"
  }
 },
 "nbformat": 4,
 "nbformat_minor": 5
}