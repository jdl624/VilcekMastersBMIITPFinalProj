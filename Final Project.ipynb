{
 "cells": [
  {
   "cell_type": "code",
   "execution_count": 141,
   "metadata": {},
   "outputs": [],
   "source": [
    "import pandas as pd\n",
    "import numpy as np"
   ]
  },
  {
   "cell_type": "code",
   "execution_count": 142,
   "metadata": {},
   "outputs": [
    {
     "data": {
      "text/plain": [
       "<bound method NDFrame.head of     Age  GDS  CDR  Delayed Recall  Number Span Test Forward  \\\n",
       "0    65    1  0.0              28                        10   \n",
       "1    65    1  0.0              30                        10   \n",
       "2    65    1  0.0              35                        10   \n",
       "3    65    1  0.0              15                        10   \n",
       "4    65    1  0.0              26                        12   \n",
       "..  ...  ...  ...             ...                       ...   \n",
       "95   80    6  3.0               1                         2   \n",
       "96   92    6  3.0               2                         2   \n",
       "97   75    7  3.0               1                         1   \n",
       "98   79    7  3.0               0                         0   \n",
       "99   74    7  3.0               0                         0   \n",
       "\n",
       "    Part A Trail Making  Part B Trail Making  moca  Categories Animal  \n",
       "0                    25                   45    27                 25  \n",
       "1                    24                   45    30                 26  \n",
       "2                    30                   45    28                 24  \n",
       "3                    30                  110    29                 28  \n",
       "4                    24                   45    27                 23  \n",
       "..                  ...                  ...   ...                ...  \n",
       "95                  150                  290     1                  2  \n",
       "96                  150                  290     4                  0  \n",
       "97                  150                  300     2                  1  \n",
       "98                  150                  300     0                  0  \n",
       "99                  150                  300     3                  1  \n",
       "\n",
       "[100 rows x 9 columns]>"
      ]
     },
     "execution_count": 142,
     "metadata": {},
     "output_type": "execute_result"
    }
   ],
   "source": [
    "data = pd.read_csv('alz_data.csv')\n",
    "data = data.drop(columns='Unnamed: 0')\n",
    "data.head"
   ]
  },
  {
   "cell_type": "code",
   "execution_count": 143,
   "metadata": {},
   "outputs": [],
   "source": [
    "zs = data\n",
    "for row in range(zs.shape[0]):\n",
    "    if zs.iloc[row, 1] < 60:\n",
    "        zs = zs.assign(Delayed_Recall_Z = lambda x: ((x['Delayed Recall']-20.9)/7.0))\n",
    "        zs = zs.assign(Number_Span_Test_Forward_Z = lambda x: ((x['Number Span Test Forward']-8.7)/2.4))\n",
    "        zs = zs.assign(Part_A_Trail_Making_Z = lambda x: ((-x['Part A Trail Making']+22.3)/8.4))\n",
    "        zs = zs.assign(Part_B_Trail_Making_Z = lambda x: ((-x['Part B Trail Making']+55.4)/27.2))\n",
    "        zs = zs.assign(MoCA_Z = lambda x: ((x['moca']-27.5)/2.1))\n",
    "        zs = zs.assign(Categories_Animal_Z = lambda x: ((x['Categories Animal']-23.6)/5.3))\n",
    "    if 60 <= zs.iloc[row, 1] <= 69:\n",
    "        zs = zs.assign(Delayed_Recall_Z = lambda x: ((x['Delayed Recall']-20.4)/6.4))\n",
    "        zs = zs.assign(Number_Span_Test_Forward_Z = lambda x: ((x['Number Span Test Forward']-8.4)/2.3))\n",
    "        zs = zs.assign(Part_A_Trail_Making_Z = lambda x: ((-x['Part A Trail Making']+27.3)/9.6))\n",
    "        zs = zs.assign(Part_B_Trail_Making_Z = lambda x: ((-x['Part B Trail Making']+70.1)/33.8))\n",
    "        zs = zs.assign(MoCA_Z = lambda x: ((x['moca']-26.9)/2.4))\n",
    "        zs = zs.assign(Categories_Animal_Z = lambda x: ((x['Categories Animal']-22.7)/5.5))\n",
    "    if 70 <= zs.iloc[row, 1] <= 79:\n",
    "        zs = zs.assign(Delayed_Recall_Z = lambda x: ((x['Delayed Recall']-26.3)/2.7))\n",
    "        zs = zs.assign(Number_Span_Test_Forward_Z = lambda x: ((x['Number Span Test Forward']-8.3)/2.3))\n",
    "        zs = zs.assign(Part_A_Trail_Making_Z = lambda x: ((-x['Part A Trail Making']+31.0)/10.8))\n",
    "        zs = zs.assign(Part_B_Trail_Making_Z = lambda x: ((-x['Part B Trail Making']+82.7)/41.4))\n",
    "        zs = zs.assign(MoCA_Z = lambda x: ((x['moca']-26.3)/2.7))\n",
    "        zs = zs.assign(Categories_Animal_Z = lambda x: ((x['Categories Animal']-21.2)/5.4))\n",
    "    if 80 <= zs.iloc[row, 1] <= 89:\n",
    "        zs = zs.assign(Delayed_Recall_Z = lambda x: ((x['Delayed Recall']-16.9)/6.6))\n",
    "        zs = zs.assign(Number_Span_Test_Forward_Z = lambda x: ((x['Number Span Test Forward']-8.0)/2.3))\n",
    "        zs = zs.assign(Part_A_Trail_Making_Z = lambda x: ((-x['Part A Trail Making']+36.2)/13.3))\n",
    "        zs = zs.assign(Part_B_Trail_Making_Z = lambda x: ((-x['Part B Trail Making']+102.0)/55.2))\n",
    "        zs = zs.assign(MoCA_Z = lambda x: ((x['moca']-25.3)/3.0))\n",
    "        zs = zs.assign(Categories_Animal_Z = lambda x: ((x['Categories Animal']-19.5)/5.6))\n",
    "    if 90 <= zs.iloc[row, 1]:\n",
    "        zs = zs.assign(Delayed_Recall_Z = lambda x: ((x['Delayed Recall']-15.1)/5.8))\n",
    "        zs = zs.assign(Number_Span_Test_Forward_Z = lambda x: ((x['Number Span Test Forward']-7.6)/2.1))\n",
    "        zs = zs.assign(Part_A_Trail_Making_Z = lambda x: ((-x['Part A Trail Making']+42.0)/13.4))\n",
    "        zs = zs.assign(Part_B_Trail_Making_Z = lambda x: ((-x['Part B Trail Making']+140.6)/75.3))\n",
    "        zs = zs.assign(MoCA_Z = lambda x: ((x['moca']-23.8)/3.5))\n",
    "        zs = zs.assign(Categories_Animal_Z = lambda x: ((x['Categories Animal']-17.0)/5.4))\n",
    "\n",
    "zs = zs.drop(['Age', 'GDS', 'CDR','Delayed Recall','Number Span Test Forward','Part A Trail Making','Part B Trail Making','moca','Categories Animal'], axis = 1)"
   ]
  },
  {
   "cell_type": "code",
   "execution_count": 144,
   "metadata": {},
   "outputs": [
    {
     "name": "stdout",
     "output_type": "stream",
     "text": [
      "    Delayed_Recall_Z  Number_Span_Test_Forward_Z  Part_A_Trail_Making_Z  \\\n",
      "0           1.014286                    0.541667              -0.321429   \n",
      "1           1.300000                    0.541667              -0.202381   \n",
      "2           2.014286                    0.541667              -0.916667   \n",
      "3          -0.842857                    0.541667              -0.916667   \n",
      "4           0.728571                    1.375000              -0.202381   \n",
      "..               ...                         ...                    ...   \n",
      "95         -2.842857                   -2.791667             -15.202381   \n",
      "96         -2.700000                   -2.791667             -15.202381   \n",
      "97         -2.842857                   -3.208333             -15.202381   \n",
      "98         -2.985714                   -3.625000             -15.202381   \n",
      "99         -2.985714                   -3.625000             -15.202381   \n",
      "\n",
      "    Part_B_Trail_Making_Z     MoCA_Z  Categories_Animal_Z  \n",
      "0                0.382353  -0.238095             0.264151  \n",
      "1                0.382353   1.190476             0.452830  \n",
      "2                0.382353   0.238095             0.075472  \n",
      "3               -2.007353   0.714286             0.830189  \n",
      "4                0.382353  -0.238095            -0.113208  \n",
      "..                    ...        ...                  ...  \n",
      "95              -8.625000 -12.619048            -4.075472  \n",
      "96              -8.625000 -11.190476            -4.452830  \n",
      "97              -8.992647 -12.142857            -4.264151  \n",
      "98              -8.992647 -13.095238            -4.452830  \n",
      "99              -8.992647 -11.666667            -4.264151  \n",
      "\n",
      "[100 rows x 6 columns]\n"
     ]
    }
   ],
   "source": [
    "print(zs)"
   ]
  },
  {
   "cell_type": "code",
   "execution_count": 145,
   "metadata": {},
   "outputs": [],
   "source": [
    "zs_ab = zs\n",
    "zs_ab['DR_ab'] = zs_ab['Delayed_Recall_Z'].apply(lambda x: 1 if x <= -1.5 else 0)\n",
    "zs_ab['NSF_ab'] = zs_ab['Number_Span_Test_Forward_Z'].apply(lambda x: 1 if x <= -1.5 else 0)\n",
    "zs_ab['TMA_ab'] = zs_ab['Part_A_Trail_Making_Z'].apply(lambda x: 1 if x <= -1.5 else 0)\n",
    "zs_ab['TMB_ab'] = zs_ab['Part_B_Trail_Making_Z'].apply(lambda x: 1 if x <= -1.5 else 0)\n",
    "zs_ab['MoCA_ab'] = zs_ab['MoCA_Z'].apply(lambda x: 1 if x <= -1.5 else 0)\n",
    "zs_ab['Cat_An_ab'] = zs_ab['Categories_Animal_Z'].apply(lambda x: 1 if x <= -1.5 else 0)\n",
    "zs_ab = zs_ab.drop(['Delayed_Recall_Z','Number_Span_Test_Forward_Z','Part_A_Trail_Making_Z','Part_B_Trail_Making_Z','MoCA_Z','Categories_Animal_Z'], axis = 1)\n"
   ]
  },
  {
   "cell_type": "code",
   "execution_count": 146,
   "metadata": {},
   "outputs": [
    {
     "name": "stdout",
     "output_type": "stream",
     "text": [
      "    DR_ab  NSF_ab  TMA_ab  TMB_ab  MoCA_ab  Cat_An_ab\n",
      "0       0       0       0       0        0          0\n",
      "1       0       0       0       0        0          0\n",
      "2       0       0       0       0        0          0\n",
      "3       0       0       0       1        0          0\n",
      "4       0       0       0       0        0          0\n",
      "..    ...     ...     ...     ...      ...        ...\n",
      "95      1       1       1       1        1          1\n",
      "96      1       1       1       1        1          1\n",
      "97      1       1       1       1        1          1\n",
      "98      1       1       1       1        1          1\n",
      "99      1       1       1       1        1          1\n",
      "\n",
      "[100 rows x 6 columns]\n"
     ]
    }
   ],
   "source": [
    "print(zs_ab)"
   ]
  },
  {
   "cell_type": "code",
   "execution_count": 147,
   "metadata": {},
   "outputs": [
    {
     "name": "stdout",
     "output_type": "stream",
     "text": [
      "    GDS  CDR\n",
      "0     1  0.0\n",
      "1     1  0.0\n",
      "2     1  0.0\n",
      "3     1  0.0\n",
      "4     1  0.0\n",
      "..  ...  ...\n",
      "95    6  3.0\n",
      "96    6  3.0\n",
      "97    7  3.0\n",
      "98    7  3.0\n",
      "99    7  3.0\n",
      "\n",
      "[100 rows x 2 columns]\n",
      "    GDS  CDR  DR_ab  NSF_ab  TMA_ab  TMB_ab  MoCA_ab  Cat_An_ab\n",
      "0     1  0.0      0       0       0       0        0          0\n",
      "1     1  0.0      0       0       0       0        0          0\n",
      "2     1  0.0      0       0       0       0        0          0\n",
      "3     1  0.0      0       0       0       1        0          0\n",
      "4     1  0.0      0       0       0       0        0          0\n",
      "..  ...  ...    ...     ...     ...     ...      ...        ...\n",
      "95    6  3.0      1       1       1       1        1          1\n",
      "96    6  3.0      1       1       1       1        1          1\n",
      "97    7  3.0      1       1       1       1        1          1\n",
      "98    7  3.0      1       1       1       1        1          1\n",
      "99    7  3.0      1       1       1       1        1          1\n",
      "\n",
      "[100 rows x 8 columns]\n"
     ]
    }
   ],
   "source": [
    "data = data.drop(['Age', 'Delayed Recall','Number Span Test Forward','Part A Trail Making','Part B Trail Making','moca','Categories Animal'], axis = 1)\n",
    "print(data)\n",
    "data = data.join(zs_ab)\n",
    "print(data)"
   ]
  },
  {
   "cell_type": "code",
   "execution_count": 148,
   "metadata": {},
   "outputs": [],
   "source": [
    "def alz_diagnose(data):\n",
    "    diags = []\n",
    "    for row in range(data.shape[0]):\n",
    "        row_sum = data.iloc[row].sum()\n",
    "        try:\n",
    "            if 1.0 <= row_sum <= 5.0:\n",
    "                if data.iloc[row, 0] == 1:\n",
    "                    diags.append('Normal')\n",
    "                if data.iloc[row, 0] == 2:\n",
    "                    diags.append('SCD')\n",
    "            elif 6.5 <= row_sum <= 7.5:\n",
    "                diags.append('MCI')\n",
    "            elif 8 <= row_sum <= 10:\n",
    "                diags.append('Probable Dementia')\n",
    "            elif 11 <= row_sum <= 12:\n",
    "                diags.append('Mild Dementia')\n",
    "            elif 13 <= row_sum <= 15:\n",
    "                diags.append('Moderate Dementia')\n",
    "            elif row_sum == 16:\n",
    "                diags.append('Severe Dementia')\n",
    "            else:\n",
    "                raise ValueError()\n",
    "        except ValueError:\n",
    "            diags.append('This combination of diagnostic values does not indicate clear diagnosis. Please verify values are correct.')\n",
    "            pass\n",
    "    return diags"
   ]
  },
  {
   "cell_type": "code",
   "execution_count": 149,
   "metadata": {},
   "outputs": [
    {
     "name": "stdout",
     "output_type": "stream",
     "text": [
      "['Normal', 'Normal', 'Normal', 'Normal', 'Normal', 'Normal', 'Normal', 'Normal', 'Normal', 'Normal', 'Normal', 'Normal', 'Normal', 'Normal', 'Normal', 'Normal', 'Normal', 'Normal', 'Normal', 'Normal', 'Normal', 'Normal', 'Normal', 'SCD', 'SCD', 'SCD', 'SCD', 'SCD', 'SCD', 'SCD', 'SCD', 'SCD', 'SCD', 'SCD', 'SCD', 'SCD', 'SCD', 'SCD', 'SCD', 'SCD', 'SCD', 'SCD', 'SCD', 'SCD', 'SCD', 'SCD', 'SCD', 'SCD', 'SCD', 'SCD', 'SCD', 'SCD', 'SCD', 'SCD', 'SCD', 'MCI', 'MCI', 'MCI', 'Probable Dementia', 'MCI', 'MCI', 'This combination of diagnostic values does not indicate clear diagnosis. Please verify values are correct.', 'MCI', 'MCI', 'Probable Dementia', 'MCI', 'MCI', 'Probable Dementia', 'MCI', 'MCI', 'Probable Dementia', 'Probable Dementia', 'Probable Dementia', 'Probable Dementia', 'Mild Dementia', 'Mild Dementia', 'Mild Dementia', 'Mild Dementia', 'Probable Dementia', 'Mild Dementia', 'Mild Dementia', 'Mild Dementia', 'Mild Dementia', 'Mild Dementia', 'Mild Dementia', 'Mild Dementia', 'Mild Dementia', 'Mild Dementia', 'Mild Dementia', 'Moderate Dementia', 'Moderate Dementia', 'Moderate Dementia', 'Moderate Dementia', 'Moderate Dementia', 'Moderate Dementia', 'Moderate Dementia', 'Moderate Dementia', 'Severe Dementia', 'Severe Dementia', 'Severe Dementia']\n"
     ]
    }
   ],
   "source": [
    "data_diag = alz_diagnose(data)\n",
    "print(data_diag)"
   ]
  },
  {
   "cell_type": "code",
   "execution_count": 150,
   "metadata": {},
   "outputs": [
    {
     "name": "stdout",
     "output_type": "stream",
     "text": [
      "    GDS  CDR  DR_ab  NSF_ab  TMA_ab  TMB_ab  MoCA_ab  Cat_An_ab  \\\n",
      "0     1  0.0      0       0       0       0        0          0   \n",
      "1     1  0.0      0       0       0       0        0          0   \n",
      "2     1  0.0      0       0       0       0        0          0   \n",
      "3     1  0.0      0       0       0       1        0          0   \n",
      "4     1  0.0      0       0       0       0        0          0   \n",
      "..  ...  ...    ...     ...     ...     ...      ...        ...   \n",
      "95    6  3.0      1       1       1       1        1          1   \n",
      "96    6  3.0      1       1       1       1        1          1   \n",
      "97    7  3.0      1       1       1       1        1          1   \n",
      "98    7  3.0      1       1       1       1        1          1   \n",
      "99    7  3.0      1       1       1       1        1          1   \n",
      "\n",
      "            Diagnosis  \n",
      "0              Normal  \n",
      "1              Normal  \n",
      "2              Normal  \n",
      "3              Normal  \n",
      "4              Normal  \n",
      "..                ...  \n",
      "95  Moderate Dementia  \n",
      "96  Moderate Dementia  \n",
      "97    Severe Dementia  \n",
      "98    Severe Dementia  \n",
      "99    Severe Dementia  \n",
      "\n",
      "[100 rows x 9 columns]\n"
     ]
    }
   ],
   "source": [
    "df5 = pd.DataFrame({'Diagnosis':data_diag})\n",
    "data = data.join(df5)\n",
    "print(data)\n"
   ]
  }
 ],
 "metadata": {
  "interpreter": {
   "hash": "f5083b41ee83e5159228db030480d579c653004d5c99e5326f89d7baacb07b12"
  },
  "kernelspec": {
   "display_name": "Python 3.9.1 64-bit ('base': conda)",
   "name": "python3"
  },
  "language_info": {
   "codemirror_mode": {
    "name": "ipython",
    "version": 3
   },
   "file_extension": ".py",
   "mimetype": "text/x-python",
   "name": "python",
   "nbconvert_exporter": "python",
   "pygments_lexer": "ipython3",
   "version": "3.9.1"
  }
 },
 "nbformat": 4,
 "nbformat_minor": 5
}