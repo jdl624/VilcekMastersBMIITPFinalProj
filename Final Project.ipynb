{
 "cells": [
  {
   "cell_type": "code",
   "execution_count": 1,
   "metadata": {},
   "outputs": [],
   "source": [
    "import pandas as pd\n",
    "import numpy as np"
   ]
  },
  {
   "cell_type": "code",
   "execution_count": null,
   "metadata": {},
   "outputs": [],
   "source": []
  },
  {
   "cell_type": "code",
   "execution_count": 93,
   "metadata": {},
   "outputs": [],
   "source": [
    "data = pd.read_csv('alz_data.csv')\n",
    "data = data.drop(columns='Unnamed: 0')"
   ]
  },
  {
   "cell_type": "code",
   "execution_count": 92,
   "metadata": {},
   "outputs": [],
   "source": [
    "data_z = data.assign(Delayed_Recall_Z = lambda x: ((x['Delayed Recall']-19.1)/6.7))\n",
    "data_z = data.assign(Number_Span_Test_Forward_Z = lambda x: ((x['Number Span Test Forward']-8.3)/2.3))\n",
    "data_z = data.assign(Part_A_Trail_Making_Z = lambda x: ((-x['Part A Trail Making']+30.9)/13.4))\n",
    "data_z = data.assign(Part_B_Trail_Making_Z = lambda x: ((-x['Part B Trail Making']+82.2)/46.3))\n",
    "data_z = data.assign(MoCA_Z = lambda x: ((x['moca']-26.3)/2.8))\n",
    "data_z = data.assign(Categories_Animal_Z = lambda x: ((x['Categories Animal']-21.4)/5.7))"
   ]
  },
  {
   "cell_type": "code",
   "execution_count": 94,
   "metadata": {},
   "outputs": [],
   "source": [
    "data_sum = data.sum(axis = 1)\n",
    "def alz_diagnose(data):\n",
    "    diags = []\n",
    "    for row in range(data_sum.shape[0]):\n",
    "        row_sum = data.iloc[row].sum()\n",
    "        try:\n",
    "            if 1 <= row_sum <= 4:\n",
    "                if data.loc[row,'GDS'] == 1:\n",
    "                    diags.append('Normal')\n",
    "                if data.loc[row, 'GDS'] == 2:\n",
    "                     diags.append('SCD')\n",
    "            if row_sum == 6.5:\n",
    "                diags.append('MCI')\n",
    "            if row_sum == 8:\n",
    "                diags.append('Probable Dementia')\n",
    "            if row_sum == 9:\n",
    "                diags.append('Mild Dementia')\n",
    "            if row_sum == 11:\n",
    "                diags.append('Moderate Dementia')\n",
    "            if row_sum == 13:\n",
    "                diags.append('Severe Dementia')\n",
    "            else:\n",
    "                raise ValueError()\n",
    "        except ValueError:\n",
    "            diags.append('This combination of diagnostic values does not indicate clear diagnosis. Please verify values are correct.')\n",
    "            pass\n",
    "    return diags    "
   ]
  },
  {
   "cell_type": "code",
   "execution_count": null,
   "metadata": {},
   "outputs": [],
   "source": []
  },
  {
   "cell_type": "code",
   "execution_count": 95,
   "metadata": {},
   "outputs": [],
   "source": [
    "data_diag = alz_diagnose(data)\n",
    "df5 = pd.DataFrame({'Diagnosis':data_diag})\n",
    "data = data.join(df5)\n"
   ]
  },
  {
   "cell_type": "code",
   "execution_count": 96,
   "metadata": {},
   "outputs": [
    {
     "name": "stdout",
     "output_type": "stream",
     "text": [
      "    GDS  CDR  Delayed Recall  Number Span Test Forward  Part A Trail Making  \\\n",
      "0     1  0.0              28                        10                   25   \n",
      "1     1  0.0              30                        10                   24   \n",
      "2     1  0.0              35                        10                   30   \n",
      "3     1  0.0              28                        10                   30   \n",
      "4     1  0.0              26                        12                   24   \n",
      "..  ...  ...             ...                       ...                  ...   \n",
      "95    6  3.0               1                         2                  150   \n",
      "96    6  3.0               2                         2                  150   \n",
      "97    7  3.0               1                         1                  150   \n",
      "98    7  3.0               0                         0                  150   \n",
      "99    7  3.0               0                         0                  150   \n",
      "\n",
      "    Part B Trail Making  moca  Categories Animal  \\\n",
      "0                    45    27                 25   \n",
      "1                    45    30                 26   \n",
      "2                    45    28                 24   \n",
      "3                    45    29                 28   \n",
      "4                    45    27                 23   \n",
      "..                  ...   ...                ...   \n",
      "95                  290     1                  2   \n",
      "96                  290     4                  0   \n",
      "97                  300     2                  1   \n",
      "98                  300     0                  0   \n",
      "99                  300     3                  1   \n",
      "\n",
      "                                            Diagnosis  \n",
      "0   This combination of diagnostic values does not...  \n",
      "1   This combination of diagnostic values does not...  \n",
      "2   This combination of diagnostic values does not...  \n",
      "3   This combination of diagnostic values does not...  \n",
      "4   This combination of diagnostic values does not...  \n",
      "..                                                ...  \n",
      "95  This combination of diagnostic values does not...  \n",
      "96  This combination of diagnostic values does not...  \n",
      "97  This combination of diagnostic values does not...  \n",
      "98  This combination of diagnostic values does not...  \n",
      "99  This combination of diagnostic values does not...  \n",
      "\n",
      "[100 rows x 9 columns]\n"
     ]
    }
   ],
   "source": [
    "print(data)"
   ]
  }
 ],
 "metadata": {
  "interpreter": {
   "hash": "f5083b41ee83e5159228db030480d579c653004d5c99e5326f89d7baacb07b12"
  },
  "kernelspec": {
   "display_name": "Python 3.9.1 64-bit ('base': conda)",
   "name": "python3"
  },
  "language_info": {
   "codemirror_mode": {
    "name": "ipython",
    "version": 3
   },
   "file_extension": ".py",
   "mimetype": "text/x-python",
   "name": "python",
   "nbconvert_exporter": "python",
   "pygments_lexer": "ipython3",
   "version": "3.9.1"
  }
 },
 "nbformat": 4,
 "nbformat_minor": 5
}