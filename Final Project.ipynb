{
 "cells": [
  {
   "cell_type": "code",
   "execution_count": 1,
   "metadata": {},
   "outputs": [],
   "source": [
    "import pandas as pd\n",
    "import numpy as np\n"
   ]
  },
  {
   "cell_type": "code",
   "execution_count": 37,
   "metadata": {},
   "outputs": [],
   "source": [
    "from dataset_creator import dataset_creator\n",
    "dataset_creator()"
   ]
  },
  {
   "cell_type": "code",
   "execution_count": 38,
   "metadata": {},
   "outputs": [],
   "source": [
    "data = pd.read_csv('alz_data.csv')\n",
    "data = data.apply(lambda x: x.sort_values().values)\n",
    "data = data.drop(columns='Unnamed: 0')\n",
    "data_sum = data.sum(axis = 1)"
   ]
  },
  {
   "cell_type": "code",
   "execution_count": 39,
   "metadata": {},
   "outputs": [],
   "source": [
    "\n",
    "def alz_diagnose(data):\n",
    "    diags = []\n",
    "    for row in range(data_sum.shape[0]):\n",
    "        row_sum = data.iloc[row].sum()\n",
    "        try:\n",
    "            if 1 <= row_sum <= 4:\n",
    "                if data.loc[row,'A'] == 1:\n",
    "                    diags.append('Normal')\n",
    "                if data.loc[row, 'A'] == 2:\n",
    "                     diags.append('SCD')\n",
    "            elif row_sum == 6.5:\n",
    "                diags.append('MCI')\n",
    "            elif row_sum == 8:\n",
    "                diags.append('Probable Dementia')\n",
    "            elif row_sum == 9:\n",
    "                diags.append('Mild Dementia')\n",
    "            elif row_sum == 11:\n",
    "                diags.append('Moderate Dementia')\n",
    "            elif row_sum == 13:\n",
    "                diags.append('Severe Dementia')\n",
    "            else:\n",
    "                raise ValueError()\n",
    "        except ValueError:\n",
    "            diags.append('This combination of diagnostic values does not indicate clear diagnosis. Please verify values are correct.')\n",
    "            pass\n",
    "    return diags\n",
    "\n",
    "    "
   ]
  },
  {
   "cell_type": "code",
   "execution_count": 41,
   "metadata": {},
   "outputs": [
    {
     "name": "stdout",
     "output_type": "stream",
     "text": [
      "    A    B  C        Diagnosis\n",
      "0   1  0.0  0           Normal\n",
      "1   1  0.0  0           Normal\n",
      "2   1  0.0  0           Normal\n",
      "3   1  0.0  0           Normal\n",
      "4   1  0.0  0           Normal\n",
      ".. ..  ... ..              ...\n",
      "95  7  3.0  3  Severe Dementia\n",
      "96  7  3.0  3  Severe Dementia\n",
      "97  7  3.0  3  Severe Dementia\n",
      "98  7  3.0  3  Severe Dementia\n",
      "99  7  3.0  3  Severe Dementia\n",
      "\n",
      "[100 rows x 4 columns]\n"
     ]
    }
   ],
   "source": [
    "data_diag = alz_diagnose(data)\n",
    "df5 = pd.DataFrame({'Diagnosis':data_diag})\n",
    "data = data.join(df5)\n",
    "print(data)\n"
   ]
  },
  {
   "cell_type": "code",
   "execution_count": null,
   "metadata": {},
   "outputs": [],
   "source": []
  },
  {
   "cell_type": "code",
   "execution_count": 14,
   "metadata": {},
   "outputs": [
    {
     "ename": "NameError",
     "evalue": "name 'row' is not defined",
     "output_type": "error",
     "traceback": [
      "\u001b[0;31m---------------------------------------------------------------------------\u001b[0m",
      "\u001b[0;31mNameError\u001b[0m                                 Traceback (most recent call last)",
      "\u001b[0;32m<ipython-input-14-7b32f13b5486>\u001b[0m in \u001b[0;36m<module>\u001b[0;34m\u001b[0m\n\u001b[0;32m----> 1\u001b[0;31m \u001b[0mrow_sum\u001b[0m \u001b[0;34m=\u001b[0m \u001b[0mdata\u001b[0m\u001b[0;34m.\u001b[0m\u001b[0miloc\u001b[0m\u001b[0;34m[\u001b[0m\u001b[0mrow\u001b[0m\u001b[0;34m]\u001b[0m\u001b[0;34m.\u001b[0m\u001b[0msum\u001b[0m\u001b[0;34m(\u001b[0m\u001b[0;34m)\u001b[0m\u001b[0;34m\u001b[0m\u001b[0;34m\u001b[0m\u001b[0m\n\u001b[0m\u001b[1;32m      2\u001b[0m \u001b[0mprint\u001b[0m\u001b[0;34m(\u001b[0m\u001b[0mrow_sum\u001b[0m\u001b[0;34m)\u001b[0m\u001b[0;34m\u001b[0m\u001b[0;34m\u001b[0m\u001b[0m\n",
      "\u001b[0;31mNameError\u001b[0m: name 'row' is not defined"
     ]
    }
   ],
   "source": []
  },
  {
   "cell_type": "code",
   "execution_count": null,
   "metadata": {},
   "outputs": [],
   "source": []
  }
 ],
 "metadata": {
  "interpreter": {
   "hash": "f5083b41ee83e5159228db030480d579c653004d5c99e5326f89d7baacb07b12"
  },
  "kernelspec": {
   "display_name": "Python 3.9.1 64-bit ('base': conda)",
   "name": "python3"
  },
  "language_info": {
   "codemirror_mode": {
    "name": "ipython",
    "version": 3
   },
   "file_extension": ".py",
   "mimetype": "text/x-python",
   "name": "python",
   "nbconvert_exporter": "python",
   "pygments_lexer": "ipython3",
   "version": "3.9.1"
  }
 },
 "nbformat": 4,
 "nbformat_minor": 5
}