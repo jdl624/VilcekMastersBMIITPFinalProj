{
 "cells": [
  {
   "cell_type": "code",
   "execution_count": 305,
   "metadata": {},
   "outputs": [],
   "source": [
    "import pandas as pd\n",
    "import numpy as np"
   ]
  },
  {
   "cell_type": "code",
   "execution_count": 306,
   "metadata": {},
   "outputs": [],
   "source": [
    "from dataset_creator import dataset_creator\n",
    "dataset_creator()"
   ]
  },
  {
   "cell_type": "code",
   "execution_count": 324,
   "metadata": {},
   "outputs": [],
   "source": [
    "data = pd.read_csv('alz_data.csv')\n",
    "data = data.apply(lambda x: x.sort_values().values)\n",
    "data = data.drop(columns='Unnamed: 0')\n",
    "data.to_csv('alzr_data.csv')"
   ]
  },
  {
   "cell_type": "code",
   "execution_count": 320,
   "metadata": {},
   "outputs": [],
   "source": [
    "data_sum = data.sum(axis = 1)\n",
    "def alz_diagnose(data):\n",
    "    diags = []\n",
    "    for row in range(data_sum.shape[0]):\n",
    "        row_sum = data.iloc[row].sum()\n",
    "        try:\n",
    "            if 1 <= row_sum <= 4:\n",
    "                if data.loc[row,'A'] == 1:\n",
    "                    diags.append('Normal')\n",
    "                if data.loc[row, 'A'] == 2:\n",
    "                     diags.append('SCD')\n",
    "            elif row_sum == 6.5:\n",
    "                diags.append('MCI')\n",
    "            elif row_sum == 8:\n",
    "                diags.append('Probable Dementia')\n",
    "            elif row_sum == 9:\n",
    "                diags.append('Mild Dementia')\n",
    "            elif row_sum == 11:\n",
    "                diags.append('Moderate Dementia')\n",
    "            elif row_sum == 13:\n",
    "                diags.append('Severe Dementia')\n",
    "            else:\n",
    "                raise ValueError()\n",
    "        except ValueError:\n",
    "            diags.append('This combination of diagnostic values does not indicate clear diagnosis. Please verify values are correct.')\n",
    "            pass\n",
    "    return diags    "
   ]
  },
  {
   "cell_type": "code",
   "execution_count": 321,
   "metadata": {},
   "outputs": [
    {
     "name": "stdout",
     "output_type": "stream",
     "text": [
      "0      1.0\n",
      "1      1.0\n",
      "2      1.0\n",
      "3      1.0\n",
      "4      1.0\n",
      "      ... \n",
      "95    13.0\n",
      "96    13.0\n",
      "97    13.0\n",
      "98    13.0\n",
      "99    13.0\n",
      "Length: 100, dtype: float64\n"
     ]
    },
    {
     "data": {
      "text/plain": [
       "50     8.0\n",
       "51     8.0\n",
       "52     8.0\n",
       "53     8.0\n",
       "54     8.0\n",
       "55     8.0\n",
       "56     9.0\n",
       "57     9.0\n",
       "58     9.0\n",
       "59     9.0\n",
       "60     9.0\n",
       "61     9.0\n",
       "62     9.0\n",
       "63     9.0\n",
       "64     9.0\n",
       "65     9.0\n",
       "66     9.0\n",
       "67     9.0\n",
       "68     9.0\n",
       "69    11.0\n",
       "70    11.0\n",
       "71    11.0\n",
       "72    11.0\n",
       "73    11.0\n",
       "74    11.0\n",
       "75    12.0\n",
       "76    12.0\n",
       "77    12.0\n",
       "78    12.0\n",
       "79    12.0\n",
       "80    12.0\n",
       "81    12.0\n",
       "82    12.0\n",
       "83    13.0\n",
       "84    13.0\n",
       "85    13.0\n",
       "86    13.0\n",
       "87    13.0\n",
       "88    13.0\n",
       "89    13.0\n",
       "90    13.0\n",
       "91    13.0\n",
       "92    13.0\n",
       "93    13.0\n",
       "94    13.0\n",
       "95    13.0\n",
       "96    13.0\n",
       "97    13.0\n",
       "98    13.0\n",
       "99    13.0\n",
       "dtype: float64"
      ]
     },
     "execution_count": 321,
     "metadata": {},
     "output_type": "execute_result"
    }
   ],
   "source": [
    "print(data_sum)\n",
    "data_sum[50:100]"
   ]
  },
  {
   "cell_type": "code",
   "execution_count": 322,
   "metadata": {},
   "outputs": [
    {
     "name": "stdout",
     "output_type": "stream",
     "text": [
      "    A    B  C        Diagnosis\n",
      "0   1  0.0  0           Normal\n",
      "1   1  0.0  0           Normal\n",
      "2   1  0.0  0           Normal\n",
      "3   1  0.0  0           Normal\n",
      "4   1  0.0  0           Normal\n",
      ".. ..  ... ..              ...\n",
      "95  7  3.0  3  Severe Dementia\n",
      "96  7  3.0  3  Severe Dementia\n",
      "97  7  3.0  3  Severe Dementia\n",
      "98  7  3.0  3  Severe Dementia\n",
      "99  7  3.0  3  Severe Dementia\n",
      "\n",
      "[100 rows x 4 columns]\n"
     ]
    }
   ],
   "source": [
    "data_diag = alz_diagnose(data)\n",
    "df5 = pd.DataFrame({'Diagnosis':data_diag})\n",
    "data = data.join(df5)\n",
    "print(data)\n"
   ]
  },
  {
   "cell_type": "code",
   "execution_count": 323,
   "metadata": {},
   "outputs": [
    {
     "name": "stdout",
     "output_type": "stream",
     "text": [
      "    A    B  C                                          Diagnosis\n",
      "1   1  0.0  0                                             Normal\n",
      "2   1  0.0  0                                             Normal\n",
      "3   1  0.0  0                                             Normal\n",
      "4   1  0.0  0                                             Normal\n",
      "5   1  0.0  0                                             Normal\n",
      "6   1  0.0  0                                             Normal\n",
      "7   1  0.0  0                                             Normal\n",
      "8   1  0.0  0                                             Normal\n",
      "9   1  0.0  0                                             Normal\n",
      "10  1  0.0  0                                             Normal\n",
      "11  1  0.0  0                                             Normal\n",
      "12  2  0.0  0                                                SCD\n",
      "13  2  0.0  0                                                SCD\n",
      "14  2  0.0  0                                                SCD\n",
      "15  2  0.5  0                                                SCD\n",
      "16  2  0.5  0                                                SCD\n",
      "17  2  0.5  0                                                SCD\n",
      "18  2  0.5  0                                                SCD\n",
      "19  2  0.5  0                                                SCD\n",
      "20  2  0.5  0                                                SCD\n",
      "21  2  0.5  0                                                SCD\n",
      "22  2  0.5  0                                                SCD\n",
      "23  2  0.5  1                                                SCD\n",
      "24  2  0.5  1                                                SCD\n",
      "25  3  0.5  1  This combination of diagnostic values does not...\n",
      "26  3  0.5  1  This combination of diagnostic values does not...\n",
      "27  3  0.5  1  This combination of diagnostic values does not...\n",
      "28  3  0.5  1  This combination of diagnostic values does not...\n",
      "29  3  0.5  1  This combination of diagnostic values does not...\n",
      "30  3  1.0  1  This combination of diagnostic values does not...\n",
      "31  3  1.0  1  This combination of diagnostic values does not...\n",
      "32  3  1.0  1  This combination of diagnostic values does not...\n",
      "33  3  1.0  1  This combination of diagnostic values does not...\n",
      "34  3  1.0  1  This combination of diagnostic values does not...\n",
      "35  3  1.0  1  This combination of diagnostic values does not...\n",
      "36  3  1.0  1  This combination of diagnostic values does not...\n",
      "37  3  1.0  1  This combination of diagnostic values does not...\n",
      "38  3  1.0  1  This combination of diagnostic values does not...\n",
      "39  3  1.0  1  This combination of diagnostic values does not...\n",
      "40  3  1.0  1  This combination of diagnostic values does not...\n",
      "41  4  1.0  1  This combination of diagnostic values does not...\n",
      "42  4  1.0  1  This combination of diagnostic values does not...\n",
      "43  4  1.0  1  This combination of diagnostic values does not...\n",
      "44  4  1.0  1  This combination of diagnostic values does not...\n",
      "45  4  1.0  1  This combination of diagnostic values does not...\n",
      "46  4  2.0  1  This combination of diagnostic values does not...\n",
      "47  4  2.0  1  This combination of diagnostic values does not...\n",
      "48  4  2.0  2                                  Probable Dementia\n",
      "49  4  2.0  2                                  Probable Dementia\n"
     ]
    }
   ],
   "source": [
    "print(data.iloc[1:50])"
   ]
  }
 ],
 "metadata": {
  "interpreter": {
   "hash": "f5083b41ee83e5159228db030480d579c653004d5c99e5326f89d7baacb07b12"
  },
  "kernelspec": {
   "display_name": "Python 3.9.1 64-bit ('base': conda)",
   "name": "python3"
  },
  "language_info": {
   "codemirror_mode": {
    "name": "ipython",
    "version": 3
   },
   "file_extension": ".py",
   "mimetype": "text/x-python",
   "name": "python",
   "nbconvert_exporter": "python",
   "pygments_lexer": "ipython3",
   "version": "3.9.1"
  }
 },
 "nbformat": 4,
 "nbformat_minor": 5
}